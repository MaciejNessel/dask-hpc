{
 "cells": [
  {
   "cell_type": "code",
   "execution_count": 31,
   "metadata": {},
   "outputs": [],
   "source": [
    "import os\n",
    "import dask.dataframe as dd\n",
    "import dask.array as da\n",
    "import matplotlib.pylab as plt\n",
    "\n",
    "from dask.distributed import Client\n",
    "\n",
    "client = Client(\"tcp://172.22.16.67:39043\")"
   ]
  },
  {
   "cell_type": "markdown",
   "metadata": {},
   "source": [
    "# Demo"
   ]
  },
  {
   "cell_type": "code",
   "execution_count": 32,
   "metadata": {},
   "outputs": [
    {
     "name": "stderr",
     "output_type": "stream",
     "text": [
      "/memfs/13850117/poetry_cache/virtualenvs/2022-krakow-lgad-yqO2ELeT-py3.11/lib/python3.11/site-packages/dask_expr/_collection.py:5983: UserWarning: dask_expr does not support the DataFrameIOFunction protocol for column projection. To enable column projection, please ensure that the signature of `func` includes a `columns=` keyword argument instead.\n",
      "  warnings.warn(\n"
     ]
    }
   ],
   "source": [
    "# Generate some data\n",
    "df = dd.demo.make_timeseries(\n",
    "    start=\"1970-01-01\",\n",
    "    end=\"2022-12-31\",\n",
    "    dtypes={\"x\": float, \"y\": float, \"a\": float, \"b\": float, \"c\": float, \"d\": float},\n",
    "    freq=\"1s\",\n",
    "    partition_freq=\"1ME\",\n",
    "    seed=1,\n",
    ")"
   ]
  },
  {
   "cell_type": "code",
   "execution_count": 33,
   "metadata": {},
   "outputs": [
    {
     "data": {
      "text/html": [
       "<div><strong>Dask DataFrame Structure:</strong></div>\n",
       "<table border=\"1\" class=\"dataframe\">\n",
       "  <thead>\n",
       "    <tr style=\"text-align: right;\">\n",
       "      <th></th>\n",
       "      <th>x</th>\n",
       "      <th>y</th>\n",
       "      <th>a</th>\n",
       "      <th>b</th>\n",
       "      <th>c</th>\n",
       "      <th>d</th>\n",
       "    </tr>\n",
       "    <tr>\n",
       "      <th>npartitions=635</th>\n",
       "      <th></th>\n",
       "      <th></th>\n",
       "      <th></th>\n",
       "      <th></th>\n",
       "      <th></th>\n",
       "      <th></th>\n",
       "    </tr>\n",
       "  </thead>\n",
       "  <tbody>\n",
       "    <tr>\n",
       "      <th>1970-01-31</th>\n",
       "      <td>float64</td>\n",
       "      <td>float64</td>\n",
       "      <td>float64</td>\n",
       "      <td>float64</td>\n",
       "      <td>float64</td>\n",
       "      <td>float64</td>\n",
       "    </tr>\n",
       "    <tr>\n",
       "      <th>1970-02-28</th>\n",
       "      <td>...</td>\n",
       "      <td>...</td>\n",
       "      <td>...</td>\n",
       "      <td>...</td>\n",
       "      <td>...</td>\n",
       "      <td>...</td>\n",
       "    </tr>\n",
       "    <tr>\n",
       "      <th>...</th>\n",
       "      <td>...</td>\n",
       "      <td>...</td>\n",
       "      <td>...</td>\n",
       "      <td>...</td>\n",
       "      <td>...</td>\n",
       "      <td>...</td>\n",
       "    </tr>\n",
       "    <tr>\n",
       "      <th>2022-11-30</th>\n",
       "      <td>...</td>\n",
       "      <td>...</td>\n",
       "      <td>...</td>\n",
       "      <td>...</td>\n",
       "      <td>...</td>\n",
       "      <td>...</td>\n",
       "    </tr>\n",
       "    <tr>\n",
       "      <th>2022-12-31</th>\n",
       "      <td>...</td>\n",
       "      <td>...</td>\n",
       "      <td>...</td>\n",
       "      <td>...</td>\n",
       "      <td>...</td>\n",
       "      <td>...</td>\n",
       "    </tr>\n",
       "  </tbody>\n",
       "</table>\n",
       "<div>Dask Name: to_string_dtype, 2 expressions</div>"
      ],
      "text/plain": [
       "Dask DataFrame Structure:\n",
       "                       x        y        a        b        c        d\n",
       "npartitions=635                                                      \n",
       "1970-01-31       float64  float64  float64  float64  float64  float64\n",
       "1970-02-28           ...      ...      ...      ...      ...      ...\n",
       "...                  ...      ...      ...      ...      ...      ...\n",
       "2022-11-30           ...      ...      ...      ...      ...      ...\n",
       "2022-12-31           ...      ...      ...      ...      ...      ...\n",
       "Dask Name: to_string_dtype, 2 expressions\n",
       "Expr=ArrowStringConversion(frame=FromMap(a119bbe))"
      ]
     },
     "execution_count": 33,
     "metadata": {},
     "output_type": "execute_result"
    }
   ],
   "source": [
    "df"
   ]
  },
  {
   "cell_type": "code",
   "execution_count": 34,
   "metadata": {},
   "outputs": [
    {
     "data": {
      "text/html": [
       "<div>\n",
       "<style scoped>\n",
       "    .dataframe tbody tr th:only-of-type {\n",
       "        vertical-align: middle;\n",
       "    }\n",
       "\n",
       "    .dataframe tbody tr th {\n",
       "        vertical-align: top;\n",
       "    }\n",
       "\n",
       "    .dataframe thead th {\n",
       "        text-align: right;\n",
       "    }\n",
       "</style>\n",
       "<table border=\"1\" class=\"dataframe\">\n",
       "  <thead>\n",
       "    <tr style=\"text-align: right;\">\n",
       "      <th></th>\n",
       "      <th>x</th>\n",
       "      <th>y</th>\n",
       "      <th>a</th>\n",
       "      <th>b</th>\n",
       "      <th>c</th>\n",
       "      <th>d</th>\n",
       "    </tr>\n",
       "    <tr>\n",
       "      <th>timestamp</th>\n",
       "      <th></th>\n",
       "      <th></th>\n",
       "      <th></th>\n",
       "      <th></th>\n",
       "      <th></th>\n",
       "      <th></th>\n",
       "    </tr>\n",
       "  </thead>\n",
       "  <tbody>\n",
       "    <tr>\n",
       "      <th>1970-01-31 00:00:00</th>\n",
       "      <td>-0.176044</td>\n",
       "      <td>-0.190188</td>\n",
       "      <td>0.663767</td>\n",
       "      <td>-0.990593</td>\n",
       "      <td>0.014111</td>\n",
       "      <td>0.892177</td>\n",
       "    </tr>\n",
       "    <tr>\n",
       "      <th>1970-01-31 00:00:01</th>\n",
       "      <td>0.593030</td>\n",
       "      <td>0.061069</td>\n",
       "      <td>-0.265768</td>\n",
       "      <td>0.230603</td>\n",
       "      <td>0.273222</td>\n",
       "      <td>0.230890</td>\n",
       "    </tr>\n",
       "    <tr>\n",
       "      <th>1970-01-31 00:00:02</th>\n",
       "      <td>0.331898</td>\n",
       "      <td>-0.229740</td>\n",
       "      <td>0.025753</td>\n",
       "      <td>-0.996398</td>\n",
       "      <td>-0.645902</td>\n",
       "      <td>-0.991500</td>\n",
       "    </tr>\n",
       "    <tr>\n",
       "      <th>1970-01-31 00:00:03</th>\n",
       "      <td>-0.953630</td>\n",
       "      <td>-0.291027</td>\n",
       "      <td>-0.046337</td>\n",
       "      <td>0.667296</td>\n",
       "      <td>0.120379</td>\n",
       "      <td>-0.309323</td>\n",
       "    </tr>\n",
       "    <tr>\n",
       "      <th>1970-01-31 00:00:04</th>\n",
       "      <td>-0.115728</td>\n",
       "      <td>0.139690</td>\n",
       "      <td>0.429294</td>\n",
       "      <td>0.243333</td>\n",
       "      <td>0.251645</td>\n",
       "      <td>-0.105868</td>\n",
       "    </tr>\n",
       "  </tbody>\n",
       "</table>\n",
       "</div>"
      ],
      "text/plain": [
       "                            x         y         a         b         c  \\\n",
       "timestamp                                                               \n",
       "1970-01-31 00:00:00 -0.176044 -0.190188  0.663767 -0.990593  0.014111   \n",
       "1970-01-31 00:00:01  0.593030  0.061069 -0.265768  0.230603  0.273222   \n",
       "1970-01-31 00:00:02  0.331898 -0.229740  0.025753 -0.996398 -0.645902   \n",
       "1970-01-31 00:00:03 -0.953630 -0.291027 -0.046337  0.667296  0.120379   \n",
       "1970-01-31 00:00:04 -0.115728  0.139690  0.429294  0.243333  0.251645   \n",
       "\n",
       "                            d  \n",
       "timestamp                      \n",
       "1970-01-31 00:00:00  0.892177  \n",
       "1970-01-31 00:00:01  0.230890  \n",
       "1970-01-31 00:00:02 -0.991500  \n",
       "1970-01-31 00:00:03 -0.309323  \n",
       "1970-01-31 00:00:04 -0.105868  "
      ]
     },
     "execution_count": 34,
     "metadata": {},
     "output_type": "execute_result"
    }
   ],
   "source": [
    "df.head()"
   ]
  },
  {
   "cell_type": "code",
   "execution_count": 35,
   "metadata": {},
   "outputs": [
    {
     "data": {
      "text/plain": [
       "x    1669852800\n",
       "y    1669852800\n",
       "a    1669852800\n",
       "b    1669852800\n",
       "c    1669852800\n",
       "d    1669852800\n",
       "dtype: int64"
      ]
     },
     "execution_count": 35,
     "metadata": {},
     "output_type": "execute_result"
    }
   ],
   "source": [
    "df.count().compute()"
   ]
  },
  {
   "cell_type": "code",
   "execution_count": 38,
   "metadata": {},
   "outputs": [
    {
     "data": {
      "image/png": "[encoded data removed]",
      "text/plain": [
       "<Figure size 640x480 with 1 Axes>"
      ]
     },
     "metadata": {},
     "output_type": "display_data"
    }
   ],
   "source": [
    "df[\"x\"].resample(\"1D\").mean().compute().plot()\n",
    "plt.xlabel(\"Date\")\n",
    "plt.ylabel(\"Mean of x\")\n",
    "plt.title(\"Daily Mean of x\")\n",
    "plt.show()"
   ]
  },
  {
   "cell_type": "code",
   "execution_count": null,
   "metadata": {},
   "outputs": [],
   "source": []
  }
 ],
 "metadata": {
  "kernelspec": {
   "display_name": "2022-krakow-lgad-yqO2ELeT-py3.11",
   "language": "python",
   "name": "python3"
  },
  "language_info": {
   "codemirror_mode": {
    "name": "ipython",
    "version": 3
   },
   "file_extension": ".py",
   "mimetype": "text/x-python",
   "name": "python",
   "nbconvert_exporter": "python",
   "pygments_lexer": "ipython3",
   "version": "3.11.3"
  }
 },
 "nbformat": 4,
 "nbformat_minor": 2
}
